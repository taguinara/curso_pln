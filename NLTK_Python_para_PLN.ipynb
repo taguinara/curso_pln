{
  "nbformat": 4,
  "nbformat_minor": 0,
  "metadata": {
    "colab": {
      "name": "NLTK - Python para PLN.ipynb",
      "provenance": [],
      "collapsed_sections": [],
      "authorship_tag": "ABX9TyMC9di0ofO+zGa5seqdNo5J",
      "include_colab_link": true
    },
    "kernelspec": {
      "name": "python3",
      "display_name": "Python 3"
    },
    "language_info": {
      "name": "python"
    }
  },
  "cells": [
    {
      "cell_type": "markdown",
      "metadata": {
        "id": "view-in-github",
        "colab_type": "text"
      },
      "source": [
        "<a href=\"https://colab.research.google.com/github/taguinara/curso_pln/blob/main/NLTK_Python_para_PLN.ipynb\" target=\"_parent\"><img src=\"https://colab.research.google.com/assets/colab-badge.svg\" alt=\"Open In Colab\"/></a>"
      ]
    },
    {
      "cell_type": "markdown",
      "metadata": {
        "id": "YwNxU98FZ3Eg"
      },
      "source": [
        "# **Python para PLN - NLTK**"
      ]
    },
    {
      "cell_type": "code",
      "metadata": {
        "id": "m3vfpMFbpTOw"
      },
      "source": [
        "import nltk"
      ],
      "execution_count": null,
      "outputs": []
    },
    {
      "cell_type": "code",
      "metadata": {
        "colab": {
          "base_uri": "https://localhost:8080/"
        },
        "id": "9ZiTGr-Ntdwa",
        "outputId": "20fec019-e1c3-42e4-a17e-c6d49c838ac8"
      },
      "source": [
        "nltk.download()"
      ],
      "execution_count": null,
      "outputs": [
        {
          "name": "stdout",
          "output_type": "stream",
          "text": [
            "NLTK Downloader\n",
            "---------------------------------------------------------------------------\n",
            "    d) Download   l) List    u) Update   c) Config   h) Help   q) Quit\n",
            "---------------------------------------------------------------------------\n",
            "Downloader> q\n"
          ]
        },
        {
          "output_type": "execute_result",
          "data": {
            "text/plain": [
              "True"
            ]
          },
          "metadata": {},
          "execution_count": 43
        }
      ]
    },
    {
      "cell_type": "code",
      "metadata": {
        "colab": {
          "base_uri": "https://localhost:8080/"
        },
        "id": "ZH6ztx-7ueZh",
        "outputId": "4a09c0f2-532b-4707-c048-ad2763c01844"
      },
      "source": [
        "nltk.corpus.mac_morpho.words()"
      ],
      "execution_count": null,
      "outputs": [
        {
          "output_type": "execute_result",
          "data": {
            "text/plain": [
              "['Jersei', 'atinge', 'média', 'de', 'Cr$', '1,4', ...]"
            ]
          },
          "metadata": {},
          "execution_count": 44
        }
      ]
    },
    {
      "cell_type": "code",
      "metadata": {
        "colab": {
          "base_uri": "https://localhost:8080/"
        },
        "id": "4wA5X9PVxLSP",
        "outputId": "f56ca60f-98ce-4204-d2ed-88162ddab978"
      },
      "source": [
        "len(nltk.corpus.mac_morpho.words())"
      ],
      "execution_count": null,
      "outputs": [
        {
          "output_type": "execute_result",
          "data": {
            "text/plain": [
              "1170095"
            ]
          },
          "metadata": {},
          "execution_count": 45
        }
      ]
    },
    {
      "cell_type": "code",
      "metadata": {
        "colab": {
          "base_uri": "https://localhost:8080/"
        },
        "id": "YtGwGQhDxjYA",
        "outputId": "917b2bb1-a45e-4ede-9c94-7e71d9028ab1"
      },
      "source": [
        "nltk.corpus.mac_morpho.sents()"
      ],
      "execution_count": null,
      "outputs": [
        {
          "output_type": "execute_result",
          "data": {
            "text/plain": [
              "[['Jersei', 'atinge', 'média', 'de', 'Cr$', '1,4', 'milhão', 'em', 'a', 'venda', 'de', 'a', 'Pinhal', 'em', 'São', 'Paulo'], ['Programe', 'sua', 'viagem', 'a', 'a', 'Exposição', 'Nacional', 'do', 'Zebu', ',', 'que', 'começa', 'dia', '25'], ...]"
            ]
          },
          "metadata": {},
          "execution_count": 46
        }
      ]
    },
    {
      "cell_type": "code",
      "metadata": {
        "colab": {
          "base_uri": "https://localhost:8080/"
        },
        "id": "dEJPgAs6x1um",
        "outputId": "06902305-ea3c-412c-d71a-a15de1e5d9bd"
      },
      "source": [
        "nltk.corpus.mac_morpho.tagged_words()"
      ],
      "execution_count": null,
      "outputs": [
        {
          "output_type": "execute_result",
          "data": {
            "text/plain": [
              "[('Jersei', 'N'), ('atinge', 'V'), ('média', 'N'), ...]"
            ]
          },
          "metadata": {},
          "execution_count": 47
        }
      ]
    },
    {
      "cell_type": "code",
      "metadata": {
        "colab": {
          "base_uri": "https://localhost:8080/"
        },
        "id": "Md0U-CEk1LIu",
        "outputId": "5f71c30a-4370-4851-d220-f5f7bf3131f8"
      },
      "source": [
        "nltk.corpus.mac_morpho.tagged_sents()"
      ],
      "execution_count": null,
      "outputs": [
        {
          "output_type": "execute_result",
          "data": {
            "text/plain": [
              "[[('Jersei', 'N'), ('atinge', 'V'), ('média', 'N'), ('de', 'PREP'), ('Cr$', 'CUR'), ('1,4', 'NUM'), ('milhão', 'N'), ('em', 'PREP|+'), ('a', 'ART'), ('venda', 'N'), ('de', 'PREP|+'), ('a', 'ART'), ('Pinhal', 'NPROP'), ('em', 'PREP'), ('São', 'NPROP'), ('Paulo', 'NPROP')], [('Programe', 'V'), ('sua', 'PROADJ'), ('viagem', 'N'), ('a', 'PREP|+'), ('a', 'ART'), ('Exposição', 'NPROP'), ('Nacional', 'NPROP'), ('do', 'NPROP'), ('Zebu', 'NPROP'), (',', ','), ('que', 'PRO-KS-REL'), ('começa', 'V'), ('dia', 'N'), ('25', 'N|AP')], ...]"
            ]
          },
          "metadata": {},
          "execution_count": 48
        }
      ]
    },
    {
      "cell_type": "code",
      "metadata": {
        "colab": {
          "base_uri": "https://localhost:8080/"
        },
        "id": "YcRJQzCh1dY8",
        "outputId": "cc00f8db-efdc-4b68-e6c3-9c18d5e2a90d"
      },
      "source": [
        "nltk.word_tokenize(\"Com um passe de Eli Manning para Plaxico Burress a 39 segundos do fim, o New York Giants anotou o touchdown decisivo e derrubou o favorito New England Patriots por 17 a 14 neste domingo, em Glendale, no Super Bowl XLII. \")"
      ],
      "execution_count": null,
      "outputs": [
        {
          "output_type": "execute_result",
          "data": {
            "text/plain": [
              "['Com',\n",
              " 'um',\n",
              " 'passe',\n",
              " 'de',\n",
              " 'Eli',\n",
              " 'Manning',\n",
              " 'para',\n",
              " 'Plaxico',\n",
              " 'Burress',\n",
              " 'a',\n",
              " '39',\n",
              " 'segundos',\n",
              " 'do',\n",
              " 'fim',\n",
              " ',',\n",
              " 'o',\n",
              " 'New',\n",
              " 'York',\n",
              " 'Giants',\n",
              " 'anotou',\n",
              " 'o',\n",
              " 'touchdown',\n",
              " 'decisivo',\n",
              " 'e',\n",
              " 'derrubou',\n",
              " 'o',\n",
              " 'favorito',\n",
              " 'New',\n",
              " 'England',\n",
              " 'Patriots',\n",
              " 'por',\n",
              " '17',\n",
              " 'a',\n",
              " '14',\n",
              " 'neste',\n",
              " 'domingo',\n",
              " ',',\n",
              " 'em',\n",
              " 'Glendale',\n",
              " ',',\n",
              " 'no',\n",
              " 'Super',\n",
              " 'Bowl',\n",
              " 'XLII',\n",
              " '.']"
            ]
          },
          "metadata": {},
          "execution_count": 49
        }
      ]
    },
    {
      "cell_type": "code",
      "metadata": {
        "colab": {
          "base_uri": "https://localhost:8080/"
        },
        "id": "F2x8J_952YbN",
        "outputId": "d6b2bc72-ac41-4565-9c4b-cbd4ffb2941d"
      },
      "source": [
        "from nltk.tokenize import RegexpTokenizer\n",
        "texto = \"Com um passe de Eli Manning para Plaxico Burress a 39 segundos do fim, o New York Giants anotou o touchdown decisivo e derrubou o favorito New England Patriots por 17 a 14 neste domingo, em Glendale, no Super Bowl XLII.\"\n",
        "tokenizer = RegexpTokenizer(r'\\w+')\n",
        "tokens = tokenizer.tokenize(texto)\n",
        "tokens"
      ],
      "execution_count": null,
      "outputs": [
        {
          "output_type": "execute_result",
          "data": {
            "text/plain": [
              "['Com',\n",
              " 'um',\n",
              " 'passe',\n",
              " 'de',\n",
              " 'Eli',\n",
              " 'Manning',\n",
              " 'para',\n",
              " 'Plaxico',\n",
              " 'Burress',\n",
              " 'a',\n",
              " '39',\n",
              " 'segundos',\n",
              " 'do',\n",
              " 'fim',\n",
              " 'o',\n",
              " 'New',\n",
              " 'York',\n",
              " 'Giants',\n",
              " 'anotou',\n",
              " 'o',\n",
              " 'touchdown',\n",
              " 'decisivo',\n",
              " 'e',\n",
              " 'derrubou',\n",
              " 'o',\n",
              " 'favorito',\n",
              " 'New',\n",
              " 'England',\n",
              " 'Patriots',\n",
              " 'por',\n",
              " '17',\n",
              " 'a',\n",
              " '14',\n",
              " 'neste',\n",
              " 'domingo',\n",
              " 'em',\n",
              " 'Glendale',\n",
              " 'no',\n",
              " 'Super',\n",
              " 'Bowl',\n",
              " 'XLII']"
            ]
          },
          "metadata": {},
          "execution_count": 50
        }
      ]
    },
    {
      "cell_type": "code",
      "metadata": {
        "colab": {
          "base_uri": "https://localhost:8080/"
        },
        "id": "nUhZTk8U3p0v",
        "outputId": "3543247e-cedf-4f0e-dc5f-44754c913bee"
      },
      "source": [
        "texto = \"Com um passe de Eli Manning para Plaxico Burress a 39 segundos do fim, o New York Giants anotou o touchdown decisivo e derrubou o favorito New England Patriots por 17 a 14 neste domingo, em Glendale, no Super Bowl XLII.\"\n",
        "tokenizer = RegexpTokenizer(r'\\w+')\n",
        "frequencia = nltk.FreqDist(tokens)\n",
        "frequencia.most_common()"
      ],
      "execution_count": null,
      "outputs": [
        {
          "output_type": "execute_result",
          "data": {
            "text/plain": [
              "[('o', 3),\n",
              " ('a', 2),\n",
              " ('New', 2),\n",
              " ('Com', 1),\n",
              " ('um', 1),\n",
              " ('passe', 1),\n",
              " ('de', 1),\n",
              " ('Eli', 1),\n",
              " ('Manning', 1),\n",
              " ('para', 1),\n",
              " ('Plaxico', 1),\n",
              " ('Burress', 1),\n",
              " ('39', 1),\n",
              " ('segundos', 1),\n",
              " ('do', 1),\n",
              " ('fim', 1),\n",
              " ('York', 1),\n",
              " ('Giants', 1),\n",
              " ('anotou', 1),\n",
              " ('touchdown', 1),\n",
              " ('decisivo', 1),\n",
              " ('e', 1),\n",
              " ('derrubou', 1),\n",
              " ('favorito', 1),\n",
              " ('England', 1),\n",
              " ('Patriots', 1),\n",
              " ('por', 1),\n",
              " ('17', 1),\n",
              " ('14', 1),\n",
              " ('neste', 1),\n",
              " ('domingo', 1),\n",
              " ('em', 1),\n",
              " ('Glendale', 1),\n",
              " ('no', 1),\n",
              " ('Super', 1),\n",
              " ('Bowl', 1),\n",
              " ('XLII', 1)]"
            ]
          },
          "metadata": {},
          "execution_count": 51
        }
      ]
    },
    {
      "cell_type": "code",
      "metadata": {
        "colab": {
          "base_uri": "https://localhost:8080/"
        },
        "id": "mWQ7lbIL41ON",
        "outputId": "e4367ce5-d385-4b97-f11a-6fbf0f271327"
      },
      "source": [
        "from nltk.tokenize import RegexpTokenizer\n",
        "texto = \"Com um passe de Eli Manning para Plaxico Burress a 39 segundos do fim, o New York Giants anotou o touchdown decisivo e derrubou o favorito New England Patriots por 17 a 14 neste domingo, em Glendale, no Super Bowl XLII.\"\n",
        "\n",
        "tokenizer = RegexpTokenizer(r'\\w+')\n",
        "tokens = tokenizer.tokenize(texto)\n",
        "\n",
        "frequencia = nltk.FreqDist(tokens)\n",
        "frequencia.most_common()"
      ],
      "execution_count": null,
      "outputs": [
        {
          "output_type": "execute_result",
          "data": {
            "text/plain": [
              "[('o', 3),\n",
              " ('a', 2),\n",
              " ('New', 2),\n",
              " ('Com', 1),\n",
              " ('um', 1),\n",
              " ('passe', 1),\n",
              " ('de', 1),\n",
              " ('Eli', 1),\n",
              " ('Manning', 1),\n",
              " ('para', 1),\n",
              " ('Plaxico', 1),\n",
              " ('Burress', 1),\n",
              " ('39', 1),\n",
              " ('segundos', 1),\n",
              " ('do', 1),\n",
              " ('fim', 1),\n",
              " ('York', 1),\n",
              " ('Giants', 1),\n",
              " ('anotou', 1),\n",
              " ('touchdown', 1),\n",
              " ('decisivo', 1),\n",
              " ('e', 1),\n",
              " ('derrubou', 1),\n",
              " ('favorito', 1),\n",
              " ('England', 1),\n",
              " ('Patriots', 1),\n",
              " ('por', 1),\n",
              " ('17', 1),\n",
              " ('14', 1),\n",
              " ('neste', 1),\n",
              " ('domingo', 1),\n",
              " ('em', 1),\n",
              " ('Glendale', 1),\n",
              " ('no', 1),\n",
              " ('Super', 1),\n",
              " ('Bowl', 1),\n",
              " ('XLII', 1)]"
            ]
          },
          "metadata": {},
          "execution_count": 52
        }
      ]
    },
    {
      "cell_type": "code",
      "metadata": {
        "colab": {
          "base_uri": "https://localhost:8080/"
        },
        "id": "yH1mOfkT5UoA",
        "outputId": "5372e2a3-63d3-4b27-bb20-5264646e11df"
      },
      "source": [
        "corpus = open('corpus_teste.txt').read()\n",
        "print(corpus)"
      ],
      "execution_count": null,
      "outputs": [
        {
          "output_type": "stream",
          "name": "stdout",
          "text": [
            "Giants batem os Patriots no Super Bowl XLII\n",
            "Azarões acabam com a invencibilidade de New England e ficam com o título da temporada\n",
            "04/02/2008 - 01h07m - Atualizado em 04/02/2008 - 09h49m\n",
            "\n",
            "Com um passe de Eli Manning para Plaxico Burress a 39 segundos do fim, o New York Giants anotou o touchdown decisivo e derrubou o favorito New England Patriots por 17 a 14 neste domingo, em Glendale, no Super Bowl XLII. O resultado, uma das maiores zebras da história do Super Bowl, acabou com a temporada perfeita de Tom Brady e companhia, que esperavam fazer história ao levantar o troféu da NFL sem sofrer uma derrota no ano. \n",
            "\n",
            "A vitória dos Giants, porém, também ficará para a história. Pela primeira vez, irmãos quarterbacks triunfam no Super Bowl em temporadas consecutivas. No ano passado, Peyton Manning, irmão de Eli, chegou ao título máximo da NFL pelo Indianapolis Colts.\n",
            "\n",
            "A partida\n",
            "\n",
            "Os Giants começaram com a posse de bola, e mostraram logo que iriam alongar ao máximo suas posses de bola. Misturando corridas com Brandon Jacobs e passes curtos, o time de Nova York chegou à red zone logo na primeira campanha. O avanço, no entanto, parou na linha de 17 jardas e Lawrence Tynes converteu o field goal de 32 jardas para abrir o placar.\n",
            "\n",
            "Eli Manning e companhia ficaram 9m54s com a bola, mas o ataque dos Patriots não entrou em campo frio. Logo no retorno do kickoff, o running back Laurence Maroney avançou 43 jardas, deixando Tom Brady em boa posição. Com passes curtos, os Patriots chegaram à linha de 17 jardas e, graças a uma penalidade (interferência de passe) do linebacker Antonio Pierce, alcançaram a linha de uma jarda. Maroney avançou pelo chão e anotou o primeiro touchdown do jogo.\n",
            "\n",
            "Os Giants pareciam rumo à virada na campanha seguinte. Manning achou Amani Toomer para um avanço de 38 jardas, e o time de Nova York entrou novamente na red zone. Com a bola na linha de 14 jardas dos Patriots, os Giants sofreram um revés. Manning passou para Steve Smith, que soltou a bola. Ellis Hobbs aproveitou, tomou a posse para os Patriots, e avançou 23 jardas. \n",
            "\n",
            "A defesa de Nova York manteve o jogo equilibrado. Com dois sacks seguidos, os Giants forçaram o punt e recuperaram a bola. Mas a campanha seguinte provou ser outra decepção para Nova York. O time chegou à linha de 25 jardas, mas Manning sofreu um sack e cometeu um fumble, e o ataque voltou para a linha de 39 jardas, não conseguindo pontuar mais uma vez.\n",
            "\n",
            "Os Patriots tiveram uma última chance de marcar antes do intervalo, mas, a 22 segundos do fim do segundo período, Brady foi novamente sacado. Desta vez, ele cometeu o fumble e os Giants tomaram a posse de bola. Manning tentou um passe longo, de 50 jardas, nos últimos segundos, mas não teve sucesso. \n",
            "\n",
            "O jogo continuou amarrado no terceiro quarto, com as defesas levando a melhor sobre os ataques. A única chance de pontuar do período foi dos Patriots, que chegaram à linha de 31 jardas dos Giants. O técnico Bill Bellichick, porém, optou por uma quarta descida em vez de um field goal. Brady tentou um passe para Jabar Gaffney, mas não conseguiu completar.\n",
            "\n",
            "O último período começou arrasador para os Giants. na primeira jogada, Manning achou o tight end Kevin Boss, para um incrível avanço de 45 jardas, que deixou o time na linha de 35 dos Patriots. Outro lançamento, desta vez para Steve Smith, marcou o avanço até a linha de 12 jardas. Duas jogadas depois, David Tyree pegou um passe de cinco jardas na end zone para anotar o touchdown e virar o jogo.\n",
            "\n",
            "Na hora da decisão, o ataque dos Patriots voltou a funcionar. Com uma série de passes curtos e variados, Brady achou Wes Welker, Randy Moss e Kevin Faulk seguidas vezes até chegar à red zone. A 2m45s do fim, o quarterback conectou mais uma vez com Moss, que se desmarcou e ficou livre na lateral direita da end zone.\n",
            "\n",
            "Quando os fãs de New England já comemoravam a vitória, o inesperado aconteceu. Em uma jogada incrível, Eli Manning se soltou de dois marcadores que o seguravam pela camisa e, na corrida, lançou para Amani Toomer. O wide receiver, bem marcado, saltou e conseguiu a fazer recepção para um avanço de 32 jardas, deixando os Giants na linha de 24 de New England.\n",
            "\n",
            "Quatro jogadas depois, a 39 segundos do fim, Manning achou Plaxico Burress na end zone para conseguir o touchdown do título.\n"
          ]
        }
      ]
    },
    {
      "cell_type": "code",
      "metadata": {
        "colab": {
          "base_uri": "https://localhost:8080/"
        },
        "id": "Nqv2AQkq6IP3",
        "outputId": "f733c9f6-04a7-4316-cf95-927a27b4d9f5"
      },
      "source": [
        "from nltk.tokenize import RegexpTokenizer\n",
        "\n",
        "tokenizer = RegexpTokenizer(r'\\w+')\n",
        "tokens = tokenizer.tokenize(corpus)\n",
        "\n",
        "frequencia = nltk.FreqDist(tokens)\n",
        "frequencia.most_common(10)"
      ],
      "execution_count": null,
      "outputs": [
        {
          "output_type": "execute_result",
          "data": {
            "text/plain": [
              "[('de', 34),\n",
              " ('o', 26),\n",
              " ('a', 23),\n",
              " ('e', 21),\n",
              " ('para', 16),\n",
              " ('jardas', 15),\n",
              " ('do', 12),\n",
              " ('na', 12),\n",
              " ('Giants', 11),\n",
              " ('um', 11)]"
            ]
          },
          "metadata": {},
          "execution_count": 54
        }
      ]
    },
    {
      "cell_type": "code",
      "metadata": {
        "colab": {
          "base_uri": "https://localhost:8080/"
        },
        "id": "zyNvKBD46hDY",
        "outputId": "5f895db3-7980-440c-c06a-d3d1ea644a07"
      },
      "source": [
        "from nltk.tokenize import RegexpTokenizer\n",
        "\n",
        "tokenizer = RegexpTokenizer(r'[a-zA-Z]\\w+')\n",
        "tokens = tokenizer.tokenize(texto)\n",
        "\n",
        "nova_lista = []\n",
        "for token in tokens:\n",
        "  nova_lista.append(token.lower())\n",
        "\n",
        "nova_lista"
      ],
      "execution_count": null,
      "outputs": [
        {
          "output_type": "execute_result",
          "data": {
            "text/plain": [
              "['com',\n",
              " 'um',\n",
              " 'passe',\n",
              " 'de',\n",
              " 'eli',\n",
              " 'manning',\n",
              " 'para',\n",
              " 'plaxico',\n",
              " 'burress',\n",
              " 'segundos',\n",
              " 'do',\n",
              " 'fim',\n",
              " 'new',\n",
              " 'york',\n",
              " 'giants',\n",
              " 'anotou',\n",
              " 'touchdown',\n",
              " 'decisivo',\n",
              " 'derrubou',\n",
              " 'favorito',\n",
              " 'new',\n",
              " 'england',\n",
              " 'patriots',\n",
              " 'por',\n",
              " 'neste',\n",
              " 'domingo',\n",
              " 'em',\n",
              " 'glendale',\n",
              " 'no',\n",
              " 'super',\n",
              " 'bowl',\n",
              " 'xlii']"
            ]
          },
          "metadata": {},
          "execution_count": 55
        }
      ]
    },
    {
      "cell_type": "code",
      "metadata": {
        "colab": {
          "base_uri": "https://localhost:8080/"
        },
        "id": "5JskRk0eT4uD",
        "outputId": "506a01b1-3232-4520-af04-afe78d56ce8e"
      },
      "source": [
        "from nltk.tokenize import RegexpTokenizer\n",
        "\n",
        "tokenizer = RegexpTokenizer(r'[a-zA-Z]\\w*')\n",
        "tokens = tokenizer.tokenize(corpus)\n",
        "\n",
        "nova_lista = []\n",
        "\n",
        "for token in tokens:\n",
        "  nova_lista.append(token.lower())\n",
        "\n",
        "frequencia = nltk.FreqDist(nova_lista)\n",
        "frequencia.most_common()"
      ],
      "execution_count": null,
      "outputs": [
        {
          "output_type": "execute_result",
          "data": {
            "text/plain": [
              "[('de', 34),\n",
              " ('o', 33),\n",
              " ('a', 28),\n",
              " ('e', 21),\n",
              " ('para', 16),\n",
              " ('jardas', 15),\n",
              " ('os', 13),\n",
              " ('com', 13),\n",
              " ('na', 13),\n",
              " ('do', 12),\n",
              " ('giants', 11),\n",
              " ('um', 11),\n",
              " ('patriots', 10),\n",
              " ('manning', 10),\n",
              " ('uma', 10),\n",
              " ('linha', 10),\n",
              " ('no', 8),\n",
              " ('em', 7),\n",
              " ('que', 7),\n",
              " ('dos', 7),\n",
              " ('bola', 7),\n",
              " ('da', 6),\n",
              " ('vez', 6),\n",
              " ('zone', 6),\n",
              " ('mas', 6),\n",
              " ('new', 5),\n",
              " ('passe', 5),\n",
              " ('york', 5),\n",
              " ('brady', 5),\n",
              " ('avanço', 5),\n",
              " ('super', 4),\n",
              " ('bowl', 4),\n",
              " ('england', 4),\n",
              " ('eli', 4),\n",
              " ('segundos', 4),\n",
              " ('fim', 4),\n",
              " ('touchdown', 4),\n",
              " ('time', 4),\n",
              " ('nova', 4),\n",
              " ('não', 4),\n",
              " ('jogo', 4),\n",
              " ('achou', 4),\n",
              " ('end', 4),\n",
              " ('título', 3),\n",
              " ('história', 3),\n",
              " ('ao', 3),\n",
              " ('primeira', 3),\n",
              " ('chegou', 3),\n",
              " ('posse', 3),\n",
              " ('logo', 3),\n",
              " ('passes', 3),\n",
              " ('curtos', 3),\n",
              " ('red', 3),\n",
              " ('campanha', 3),\n",
              " ('ataque', 3),\n",
              " ('avançou', 3),\n",
              " ('período', 3),\n",
              " ('xlii', 2),\n",
              " ('temporada', 2),\n",
              " ('plaxico', 2),\n",
              " ('burress', 2),\n",
              " ('anotou', 2),\n",
              " ('por', 2),\n",
              " ('tom', 2),\n",
              " ('companhia', 2),\n",
              " ('fazer', 2),\n",
              " ('nfl', 2),\n",
              " ('ano', 2),\n",
              " ('vitória', 2),\n",
              " ('porém', 2),\n",
              " ('pela', 2),\n",
              " ('máximo', 2),\n",
              " ('pelo', 2),\n",
              " ('field', 2),\n",
              " ('goal', 2),\n",
              " ('entrou', 2),\n",
              " ('maroney', 2),\n",
              " ('deixando', 2),\n",
              " ('chegaram', 2),\n",
              " ('seguinte', 2),\n",
              " ('amani', 2),\n",
              " ('toomer', 2),\n",
              " ('novamente', 2),\n",
              " ('steve', 2),\n",
              " ('smith', 2),\n",
              " ('soltou', 2),\n",
              " ('dois', 2),\n",
              " ('cometeu', 2),\n",
              " ('fumble', 2),\n",
              " ('voltou', 2),\n",
              " ('pontuar', 2),\n",
              " ('mais', 2),\n",
              " ('chance', 2),\n",
              " ('foi', 2),\n",
              " ('desta', 2),\n",
              " ('tentou', 2),\n",
              " ('conseguiu', 2),\n",
              " ('jogada', 2),\n",
              " ('kevin', 2),\n",
              " ('incrível', 2),\n",
              " ('até', 2),\n",
              " ('jogadas', 2),\n",
              " ('depois', 2),\n",
              " ('moss', 2),\n",
              " ('se', 2),\n",
              " ('batem', 1),\n",
              " ('azarões', 1),\n",
              " ('acabam', 1),\n",
              " ('invencibilidade', 1),\n",
              " ('ficam', 1),\n",
              " ('h07m', 1),\n",
              " ('atualizado', 1),\n",
              " ('h49m', 1),\n",
              " ('decisivo', 1),\n",
              " ('derrubou', 1),\n",
              " ('favorito', 1),\n",
              " ('neste', 1),\n",
              " ('domingo', 1),\n",
              " ('glendale', 1),\n",
              " ('resultado', 1),\n",
              " ('das', 1),\n",
              " ('maiores', 1),\n",
              " ('zebras', 1),\n",
              " ('acabou', 1),\n",
              " ('perfeita', 1),\n",
              " ('esperavam', 1),\n",
              " ('levantar', 1),\n",
              " ('troféu', 1),\n",
              " ('sem', 1),\n",
              " ('sofrer', 1),\n",
              " ('derrota', 1),\n",
              " ('também', 1),\n",
              " ('ficará', 1),\n",
              " ('irmãos', 1),\n",
              " ('quarterbacks', 1),\n",
              " ('triunfam', 1),\n",
              " ('temporadas', 1),\n",
              " ('consecutivas', 1),\n",
              " ('passado', 1),\n",
              " ('peyton', 1),\n",
              " ('irmão', 1),\n",
              " ('indianapolis', 1),\n",
              " ('colts', 1),\n",
              " ('partida', 1),\n",
              " ('começaram', 1),\n",
              " ('mostraram', 1),\n",
              " ('iriam', 1),\n",
              " ('alongar', 1),\n",
              " ('suas', 1),\n",
              " ('posses', 1),\n",
              " ('misturando', 1),\n",
              " ('corridas', 1),\n",
              " ('brandon', 1),\n",
              " ('jacobs', 1),\n",
              " ('entanto', 1),\n",
              " ('parou', 1),\n",
              " ('lawrence', 1),\n",
              " ('tynes', 1),\n",
              " ('converteu', 1),\n",
              " ('abrir', 1),\n",
              " ('placar', 1),\n",
              " ('ficaram', 1),\n",
              " ('m54s', 1),\n",
              " ('campo', 1),\n",
              " ('frio', 1),\n",
              " ('retorno', 1),\n",
              " ('kickoff', 1),\n",
              " ('running', 1),\n",
              " ('back', 1),\n",
              " ('laurence', 1),\n",
              " ('boa', 1),\n",
              " ('posição', 1),\n",
              " ('graças', 1),\n",
              " ('penalidade', 1),\n",
              " ('interferência', 1),\n",
              " ('linebacker', 1),\n",
              " ('antonio', 1),\n",
              " ('pierce', 1),\n",
              " ('alcançaram', 1),\n",
              " ('jarda', 1),\n",
              " ('chão', 1),\n",
              " ('primeiro', 1),\n",
              " ('pareciam', 1),\n",
              " ('rumo', 1),\n",
              " ('virada', 1),\n",
              " ('sofreram', 1),\n",
              " ('revés', 1),\n",
              " ('passou', 1),\n",
              " ('ellis', 1),\n",
              " ('hobbs', 1),\n",
              " ('aproveitou', 1),\n",
              " ('tomou', 1),\n",
              " ('defesa', 1),\n",
              " ('manteve', 1),\n",
              " ('equilibrado', 1),\n",
              " ('sacks', 1),\n",
              " ('seguidos', 1),\n",
              " ('forçaram', 1),\n",
              " ('punt', 1),\n",
              " ('recuperaram', 1),\n",
              " ('provou', 1),\n",
              " ('ser', 1),\n",
              " ('outra', 1),\n",
              " ('decepção', 1),\n",
              " ('sofreu', 1),\n",
              " ('sack', 1),\n",
              " ('conseguindo', 1),\n",
              " ('tiveram', 1),\n",
              " ('ltima', 1),\n",
              " ('marcar', 1),\n",
              " ('antes', 1),\n",
              " ('intervalo', 1),\n",
              " ('segundo', 1),\n",
              " ('sacado', 1),\n",
              " ('ele', 1),\n",
              " ('tomaram', 1),\n",
              " ('longo', 1),\n",
              " ('nos', 1),\n",
              " ('ltimos', 1),\n",
              " ('teve', 1),\n",
              " ('sucesso', 1),\n",
              " ('continuou', 1),\n",
              " ('amarrado', 1),\n",
              " ('terceiro', 1),\n",
              " ('quarto', 1),\n",
              " ('as', 1),\n",
              " ('defesas', 1),\n",
              " ('levando', 1),\n",
              " ('melhor', 1),\n",
              " ('sobre', 1),\n",
              " ('ataques', 1),\n",
              " ('nica', 1),\n",
              " ('técnico', 1),\n",
              " ('bill', 1),\n",
              " ('bellichick', 1),\n",
              " ('optou', 1),\n",
              " ('quarta', 1),\n",
              " ('descida', 1),\n",
              " ('jabar', 1),\n",
              " ('gaffney', 1),\n",
              " ('completar', 1),\n",
              " ('ltimo', 1),\n",
              " ('começou', 1),\n",
              " ('arrasador', 1),\n",
              " ('tight', 1),\n",
              " ('boss', 1),\n",
              " ('deixou', 1),\n",
              " ('outro', 1),\n",
              " ('lançamento', 1),\n",
              " ('marcou', 1),\n",
              " ('duas', 1),\n",
              " ('david', 1),\n",
              " ('tyree', 1),\n",
              " ('pegou', 1),\n",
              " ('cinco', 1),\n",
              " ('anotar', 1),\n",
              " ('virar', 1),\n",
              " ('hora', 1),\n",
              " ('decisão', 1),\n",
              " ('funcionar', 1),\n",
              " ('série', 1),\n",
              " ('variados', 1),\n",
              " ('wes', 1),\n",
              " ('welker', 1),\n",
              " ('randy', 1),\n",
              " ('faulk', 1),\n",
              " ('seguidas', 1),\n",
              " ('vezes', 1),\n",
              " ('chegar', 1),\n",
              " ('m45s', 1),\n",
              " ('quarterback', 1),\n",
              " ('conectou', 1),\n",
              " ('desmarcou', 1),\n",
              " ('ficou', 1),\n",
              " ('livre', 1),\n",
              " ('lateral', 1),\n",
              " ('direita', 1),\n",
              " ('quando', 1),\n",
              " ('fãs', 1),\n",
              " ('já', 1),\n",
              " ('comemoravam', 1),\n",
              " ('inesperado', 1),\n",
              " ('aconteceu', 1),\n",
              " ('marcadores', 1),\n",
              " ('seguravam', 1),\n",
              " ('camisa', 1),\n",
              " ('corrida', 1),\n",
              " ('lançou', 1),\n",
              " ('wide', 1),\n",
              " ('receiver', 1),\n",
              " ('bem', 1),\n",
              " ('marcado', 1),\n",
              " ('saltou', 1),\n",
              " ('recepção', 1),\n",
              " ('quatro', 1),\n",
              " ('conseguir', 1)]"
            ]
          },
          "metadata": {},
          "execution_count": 56
        }
      ]
    },
    {
      "cell_type": "code",
      "metadata": {
        "id": "3tlQ0KEhU4Fj"
      },
      "source": [
        "stopwords = nltk.corpus.stopwords.words('portuguese')"
      ],
      "execution_count": null,
      "outputs": []
    },
    {
      "cell_type": "code",
      "metadata": {
        "colab": {
          "base_uri": "https://localhost:8080/"
        },
        "id": "nSOU3L-cVJAW",
        "outputId": "0047e339-4f8c-4d26-e755-bc124e1ebf9a"
      },
      "source": [
        "type(nltk.corpus.stopwords.words('portuguese'))"
      ],
      "execution_count": null,
      "outputs": [
        {
          "output_type": "execute_result",
          "data": {
            "text/plain": [
              "list"
            ]
          },
          "metadata": {},
          "execution_count": 58
        }
      ]
    },
    {
      "cell_type": "code",
      "metadata": {
        "colab": {
          "base_uri": "https://localhost:8080/"
        },
        "id": "bOr1tVkhVXKE",
        "outputId": "df25097b-22ba-49c0-fd37-44b27bcf6c12"
      },
      "source": [
        "from nltk.tokenize import RegexpTokenizer\n",
        "\n",
        "tokenizer = RegexpTokenizer(r'[a-zA-Z]\\w+')\n",
        "tokens = tokenizer.tokenize(texto)\n",
        "\n",
        "nova_lista = []\n",
        "\n",
        "for token in tokens:\n",
        "  if token.lower() not in stopwords:\n",
        "    nova_lista.append(token.lower())\n",
        "\n",
        "print(nova_lista)"
      ],
      "execution_count": null,
      "outputs": [
        {
          "output_type": "stream",
          "name": "stdout",
          "text": [
            "['passe', 'eli', 'manning', 'plaxico', 'burress', 'segundos', 'fim', 'new', 'york', 'giants', 'anotou', 'touchdown', 'decisivo', 'derrubou', 'favorito', 'new', 'england', 'patriots', 'neste', 'domingo', 'glendale', 'super', 'bowl', 'xlii']\n"
          ]
        }
      ]
    },
    {
      "cell_type": "code",
      "metadata": {
        "colab": {
          "base_uri": "https://localhost:8080/"
        },
        "id": "rfzEaFInWsSR",
        "outputId": "9bc59c83-45a2-4b75-e07b-18a64beca308"
      },
      "source": [
        "from nltk.tokenize import RegexpTokenizer\n",
        "\n",
        "tokenizer = RegexpTokenizer(r'[a-zA-Z]\\w+')\n",
        "tokens = tokenizer.tokenize(corpus)\n",
        "\n",
        "nova_lista = []\n",
        "\n",
        "for token in tokens:\n",
        "  if token.lower() not in stopwords:\n",
        "    nova_lista.append(token.lower())\n",
        "\n",
        "frequencia = nltk.FreqDist(nova_lista)\n",
        "frequencia.most_common()"
      ],
      "execution_count": null,
      "outputs": [
        {
          "output_type": "execute_result",
          "data": {
            "text/plain": [
              "[('jardas', 15),\n",
              " ('giants', 11),\n",
              " ('patriots', 10),\n",
              " ('manning', 10),\n",
              " ('linha', 10),\n",
              " ('bola', 7),\n",
              " ('vez', 6),\n",
              " ('zone', 6),\n",
              " ('new', 5),\n",
              " ('passe', 5),\n",
              " ('york', 5),\n",
              " ('brady', 5),\n",
              " ('avanço', 5),\n",
              " ('super', 4),\n",
              " ('bowl', 4),\n",
              " ('england', 4),\n",
              " ('eli', 4),\n",
              " ('segundos', 4),\n",
              " ('fim', 4),\n",
              " ('touchdown', 4),\n",
              " ('time', 4),\n",
              " ('nova', 4),\n",
              " ('jogo', 4),\n",
              " ('achou', 4),\n",
              " ('end', 4),\n",
              " ('título', 3),\n",
              " ('história', 3),\n",
              " ('primeira', 3),\n",
              " ('chegou', 3),\n",
              " ('posse', 3),\n",
              " ('logo', 3),\n",
              " ('passes', 3),\n",
              " ('curtos', 3),\n",
              " ('red', 3),\n",
              " ('campanha', 3),\n",
              " ('ataque', 3),\n",
              " ('avançou', 3),\n",
              " ('período', 3),\n",
              " ('xlii', 2),\n",
              " ('temporada', 2),\n",
              " ('plaxico', 2),\n",
              " ('burress', 2),\n",
              " ('anotou', 2),\n",
              " ('tom', 2),\n",
              " ('companhia', 2),\n",
              " ('fazer', 2),\n",
              " ('nfl', 2),\n",
              " ('ano', 2),\n",
              " ('vitória', 2),\n",
              " ('porém', 2),\n",
              " ('máximo', 2),\n",
              " ('field', 2),\n",
              " ('goal', 2),\n",
              " ('entrou', 2),\n",
              " ('maroney', 2),\n",
              " ('deixando', 2),\n",
              " ('chegaram', 2),\n",
              " ('seguinte', 2),\n",
              " ('amani', 2),\n",
              " ('toomer', 2),\n",
              " ('novamente', 2),\n",
              " ('steve', 2),\n",
              " ('smith', 2),\n",
              " ('soltou', 2),\n",
              " ('dois', 2),\n",
              " ('cometeu', 2),\n",
              " ('fumble', 2),\n",
              " ('voltou', 2),\n",
              " ('pontuar', 2),\n",
              " ('chance', 2),\n",
              " ('desta', 2),\n",
              " ('tentou', 2),\n",
              " ('conseguiu', 2),\n",
              " ('jogada', 2),\n",
              " ('kevin', 2),\n",
              " ('incrível', 2),\n",
              " ('jogadas', 2),\n",
              " ('moss', 2),\n",
              " ('batem', 1),\n",
              " ('azarões', 1),\n",
              " ('acabam', 1),\n",
              " ('invencibilidade', 1),\n",
              " ('ficam', 1),\n",
              " ('h07m', 1),\n",
              " ('atualizado', 1),\n",
              " ('h49m', 1),\n",
              " ('decisivo', 1),\n",
              " ('derrubou', 1),\n",
              " ('favorito', 1),\n",
              " ('neste', 1),\n",
              " ('domingo', 1),\n",
              " ('glendale', 1),\n",
              " ('resultado', 1),\n",
              " ('maiores', 1),\n",
              " ('zebras', 1),\n",
              " ('acabou', 1),\n",
              " ('perfeita', 1),\n",
              " ('esperavam', 1),\n",
              " ('levantar', 1),\n",
              " ('troféu', 1),\n",
              " ('sofrer', 1),\n",
              " ('derrota', 1),\n",
              " ('ficará', 1),\n",
              " ('irmãos', 1),\n",
              " ('quarterbacks', 1),\n",
              " ('triunfam', 1),\n",
              " ('temporadas', 1),\n",
              " ('consecutivas', 1),\n",
              " ('passado', 1),\n",
              " ('peyton', 1),\n",
              " ('irmão', 1),\n",
              " ('indianapolis', 1),\n",
              " ('colts', 1),\n",
              " ('partida', 1),\n",
              " ('começaram', 1),\n",
              " ('mostraram', 1),\n",
              " ('iriam', 1),\n",
              " ('alongar', 1),\n",
              " ('posses', 1),\n",
              " ('misturando', 1),\n",
              " ('corridas', 1),\n",
              " ('brandon', 1),\n",
              " ('jacobs', 1),\n",
              " ('entanto', 1),\n",
              " ('parou', 1),\n",
              " ('lawrence', 1),\n",
              " ('tynes', 1),\n",
              " ('converteu', 1),\n",
              " ('abrir', 1),\n",
              " ('placar', 1),\n",
              " ('ficaram', 1),\n",
              " ('m54s', 1),\n",
              " ('campo', 1),\n",
              " ('frio', 1),\n",
              " ('retorno', 1),\n",
              " ('kickoff', 1),\n",
              " ('running', 1),\n",
              " ('back', 1),\n",
              " ('laurence', 1),\n",
              " ('boa', 1),\n",
              " ('posição', 1),\n",
              " ('graças', 1),\n",
              " ('penalidade', 1),\n",
              " ('interferência', 1),\n",
              " ('linebacker', 1),\n",
              " ('antonio', 1),\n",
              " ('pierce', 1),\n",
              " ('alcançaram', 1),\n",
              " ('jarda', 1),\n",
              " ('chão', 1),\n",
              " ('primeiro', 1),\n",
              " ('pareciam', 1),\n",
              " ('rumo', 1),\n",
              " ('virada', 1),\n",
              " ('sofreram', 1),\n",
              " ('revés', 1),\n",
              " ('passou', 1),\n",
              " ('ellis', 1),\n",
              " ('hobbs', 1),\n",
              " ('aproveitou', 1),\n",
              " ('tomou', 1),\n",
              " ('defesa', 1),\n",
              " ('manteve', 1),\n",
              " ('equilibrado', 1),\n",
              " ('sacks', 1),\n",
              " ('seguidos', 1),\n",
              " ('forçaram', 1),\n",
              " ('punt', 1),\n",
              " ('recuperaram', 1),\n",
              " ('provou', 1),\n",
              " ('ser', 1),\n",
              " ('outra', 1),\n",
              " ('decepção', 1),\n",
              " ('sofreu', 1),\n",
              " ('sack', 1),\n",
              " ('conseguindo', 1),\n",
              " ('ltima', 1),\n",
              " ('marcar', 1),\n",
              " ('antes', 1),\n",
              " ('intervalo', 1),\n",
              " ('segundo', 1),\n",
              " ('sacado', 1),\n",
              " ('tomaram', 1),\n",
              " ('longo', 1),\n",
              " ('ltimos', 1),\n",
              " ('sucesso', 1),\n",
              " ('continuou', 1),\n",
              " ('amarrado', 1),\n",
              " ('terceiro', 1),\n",
              " ('quarto', 1),\n",
              " ('defesas', 1),\n",
              " ('levando', 1),\n",
              " ('melhor', 1),\n",
              " ('sobre', 1),\n",
              " ('ataques', 1),\n",
              " ('nica', 1),\n",
              " ('técnico', 1),\n",
              " ('bill', 1),\n",
              " ('bellichick', 1),\n",
              " ('optou', 1),\n",
              " ('quarta', 1),\n",
              " ('descida', 1),\n",
              " ('jabar', 1),\n",
              " ('gaffney', 1),\n",
              " ('completar', 1),\n",
              " ('ltimo', 1),\n",
              " ('começou', 1),\n",
              " ('arrasador', 1),\n",
              " ('tight', 1),\n",
              " ('boss', 1),\n",
              " ('deixou', 1),\n",
              " ('outro', 1),\n",
              " ('lançamento', 1),\n",
              " ('marcou', 1),\n",
              " ('duas', 1),\n",
              " ('david', 1),\n",
              " ('tyree', 1),\n",
              " ('pegou', 1),\n",
              " ('cinco', 1),\n",
              " ('anotar', 1),\n",
              " ('virar', 1),\n",
              " ('hora', 1),\n",
              " ('decisão', 1),\n",
              " ('funcionar', 1),\n",
              " ('série', 1),\n",
              " ('variados', 1),\n",
              " ('wes', 1),\n",
              " ('welker', 1),\n",
              " ('randy', 1),\n",
              " ('faulk', 1),\n",
              " ('seguidas', 1),\n",
              " ('vezes', 1),\n",
              " ('chegar', 1),\n",
              " ('m45s', 1),\n",
              " ('quarterback', 1),\n",
              " ('conectou', 1),\n",
              " ('desmarcou', 1),\n",
              " ('ficou', 1),\n",
              " ('livre', 1),\n",
              " ('lateral', 1),\n",
              " ('direita', 1),\n",
              " ('fãs', 1),\n",
              " ('comemoravam', 1),\n",
              " ('inesperado', 1),\n",
              " ('aconteceu', 1),\n",
              " ('marcadores', 1),\n",
              " ('seguravam', 1),\n",
              " ('camisa', 1),\n",
              " ('corrida', 1),\n",
              " ('lançou', 1),\n",
              " ('wide', 1),\n",
              " ('receiver', 1),\n",
              " ('bem', 1),\n",
              " ('marcado', 1),\n",
              " ('saltou', 1),\n",
              " ('recepção', 1),\n",
              " ('quatro', 1),\n",
              " ('conseguir', 1)]"
            ]
          },
          "metadata": {},
          "execution_count": 60
        }
      ]
    }
  ]
}