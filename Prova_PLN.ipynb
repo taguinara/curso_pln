{
  "nbformat": 4,
  "nbformat_minor": 0,
  "metadata": {
    "colab": {
      "name": "Prova_PLN",
      "provenance": [],
      "authorship_tag": "ABX9TyMhEEqngb6N6+56Snd8SGR7",
      "include_colab_link": true
    },
    "kernelspec": {
      "name": "python3",
      "display_name": "Python 3"
    },
    "language_info": {
      "name": "python"
    }
  },
  "cells": [
    {
      "cell_type": "markdown",
      "metadata": {
        "id": "view-in-github",
        "colab_type": "text"
      },
      "source": [
        "<a href=\"https://colab.research.google.com/github/taguinara/curso_pln/blob/main/Prova_PLN.ipynb\" target=\"_parent\"><img src=\"https://colab.research.google.com/assets/colab-badge.svg\" alt=\"Open In Colab\"/></a>"
      ]
    },
    {
      "cell_type": "code",
      "metadata": {
        "id": "aol3MH3X4-0k"
      },
      "source": [
        "import nltk"
      ],
      "execution_count": null,
      "outputs": []
    },
    {
      "cell_type": "code",
      "metadata": {
        "colab": {
          "base_uri": "https://localhost:8080/"
        },
        "id": "NiDEKVQfKY1E",
        "outputId": "b44fc7d8-6c44-4203-ac1d-10aba2dfb5d4"
      },
      "source": [
        "texto = \"O jogador, que está com a camisa 10, marcou o gol da vitória!\"\n",
        "from nltk.tokenize import RegexpTokenizer\n",
        "tokenizer = RegexpTokenizer(r'[A-z]\\w')\n",
        "tokens = tokenizer.tokenize (texto)\n",
        "tokens"
      ],
      "execution_count": null,
      "outputs": [
        {
          "output_type": "execute_result",
          "data": {
            "text/plain": [
              "['jo',\n",
              " 'ga',\n",
              " 'do',\n",
              " 'qu',\n",
              " 'es',\n",
              " 'tá',\n",
              " 'co',\n",
              " 'ca',\n",
              " 'mi',\n",
              " 'sa',\n",
              " 'ma',\n",
              " 'rc',\n",
              " 'ou',\n",
              " 'go',\n",
              " 'da',\n",
              " 'vi',\n",
              " 'tó',\n",
              " 'ri']"
            ]
          },
          "metadata": {},
          "execution_count": 9
        }
      ]
    },
    {
      "cell_type": "code",
      "metadata": {
        "colab": {
          "base_uri": "https://localhost:8080/"
        },
        "id": "91es7nQeIVq-",
        "outputId": "d16d77b2-c7e6-4ab0-9303-b1cf20b294d0"
      },
      "source": [
        "estrutura = [10, 20, 30, 40, 50]\n",
        "print(estrutura [:3])"
      ],
      "execution_count": null,
      "outputs": [
        {
          "output_type": "stream",
          "name": "stdout",
          "text": [
            "[10, 20, 30]\n"
          ]
        }
      ]
    },
    {
      "cell_type": "code",
      "metadata": {
        "id": "69_VNPrKIgnW",
        "colab": {
          "base_uri": "https://localhost:8080/"
        },
        "outputId": "04c67308-e460-4131-8210-223dd1fb7160"
      },
      "source": [
        "s = 'instituto de ciências matemáticas e de computação'\n",
        "len(s.split())"
      ],
      "execution_count": null,
      "outputs": [
        {
          "output_type": "execute_result",
          "data": {
            "text/plain": [
              "7"
            ]
          },
          "metadata": {},
          "execution_count": 12
        }
      ]
    },
    {
      "cell_type": "code",
      "metadata": {
        "colab": {
          "base_uri": "https://localhost:8080/"
        },
        "id": "ZSMijQUUJSGv",
        "outputId": "16d6e5fb-bfe4-410c-fa6c-b0f3902699a3"
      },
      "source": [
        "print(type(s))"
      ],
      "execution_count": null,
      "outputs": [
        {
          "output_type": "stream",
          "name": "stdout",
          "text": [
            "<class 'str'>\n"
          ]
        }
      ]
    }
  ]
}